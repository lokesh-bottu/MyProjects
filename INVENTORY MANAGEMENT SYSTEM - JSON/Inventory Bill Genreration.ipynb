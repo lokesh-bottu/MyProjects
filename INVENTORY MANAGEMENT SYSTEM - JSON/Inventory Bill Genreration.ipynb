{
 "cells": [
  {
   "cell_type": "markdown",
   "id": "a15a7ac5",
   "metadata": {},
   "source": [
    "# Initialising the Record"
   ]
  },
  {
   "cell_type": "code",
   "execution_count": 48,
   "id": "529aeef4",
   "metadata": {},
   "outputs": [],
   "source": [
    "import json\n",
    "record = {101:{'Name':'Kitkat    ',\"price\":50,\"Quantity\":2000},\n",
    "          102:{'Name':'5 Star    ',\"price\":10,\"Quantity\":300},\n",
    "          103:{'Name':'Chocobar  ',\"price\":20,\"Quantity\":100},\n",
    "          104:{'Name':'Diary Milk',\"price\":80,\"Quantity\":400},\n",
    "          105:{'Name':'Snickers  ',\"price\":60,\"Quantity\":250},\n",
    "          106:{'Name':'Choco Bar ',\"price\":15,\"Quantity\":100}}\n",
    "inventory=json.dumps(record)\n",
    "file=open(\"Records.json\",'w')\n",
    "file.write(inventory)\n",
    "file.close()"
   ]
  },
  {
   "cell_type": "markdown",
   "id": "d01f720b",
   "metadata": {},
   "source": [
    "# Using the Json File to get the Records"
   ]
  },
  {
   "cell_type": "code",
   "execution_count": 49,
   "id": "32fcc2dc",
   "metadata": {},
   "outputs": [
    {
     "name": "stdout",
     "output_type": "stream",
     "text": [
      "Enter the Product id : 101\n",
      "Enter the Quantity   : 785\n",
      "{'Name': 'Kitkat    ', 'price': 50, 'Quantity': 2000}\n",
      "----------------------------------------\n",
      "Product Name   :  Kitkat    \n",
      "product Price  :  50\n",
      "----------------------------------------\n",
      "Billing Amount :  39250\n",
      "----------------------------------------\n"
     ]
    }
   ],
   "source": [
    "file=open('Records.json','r')\n",
    "values=file.read()\n",
    "record=json.loads(values)\n",
    "file.close()\n",
    "ui_pr = input(\"Enter the Product id : \")\n",
    "ui_qn = int(input(\"Enter the Quantity   : \"))\n",
    "for uid in record.keys():\n",
    "    if uid==ui_pr:\n",
    "        print(record[uid])\n",
    "        amount= record[uid]['price']*ui_qn\n",
    "        record[uid]['Quantity']=record[uid]['Quantity']-ui_qn    #updating the quantity in the record\n",
    "        print('----------------------------------------')\n",
    "        print('Product Name   : ',record[uid]['Name'])\n",
    "        print('product Price  : ',record[uid]['price'])\n",
    "        print('----------------------------------------')\n",
    "        print('Billing Amount : ',amount)\n",
    "        print('----------------------------------------')\n",
    "        \n",
    "        js = json.dumps(record)\n",
    "        file=open(\"Record.json\",'w')\n",
    "        file.write(js)\n",
    "        file.close()\n",
    "        "
   ]
  },
  {
   "cell_type": "code",
   "execution_count": 17,
   "id": "bfcdd720",
   "metadata": {},
   "outputs": [],
   "source": [
    "import json"
   ]
  },
  {
   "cell_type": "code",
   "execution_count": 24,
   "id": "ca7d07a2",
   "metadata": {},
   "outputs": [
    {
     "data": {
      "text/plain": [
       "{101: {'Name': 'Kitkat    ', 'price': 50, 'Quantity': 200},\n",
       " 102: {'Name': '5 Star    ', 'price': 10, 'Quantity': 275},\n",
       " 103: {'Name': 'Chocobar  ', 'price': 20, 'Quantity': 100},\n",
       " 104: {'Name': 'Diary Milk', 'price': 80, 'Quantity': 400},\n",
       " 105: {'Name': 'Snickers  ', 'price': 60, 'Quantity': 250}}"
      ]
     },
     "execution_count": 24,
     "metadata": {},
     "output_type": "execute_result"
    }
   ],
   "source": [
    "record"
   ]
  },
  {
   "cell_type": "code",
   "execution_count": 27,
   "id": "61a1d1f0",
   "metadata": {},
   "outputs": [
    {
     "name": "stdout",
     "output_type": "stream",
     "text": [
      "{\"101\": {\"Name\": \"Kitkat    \", \"price\": 50, \"Quantity\": 200}, \"102\": {\"Name\": \"5 Star    \", \"price\": 10, \"Quantity\": 252}, \"103\": {\"Name\": \"Chocobar  \", \"price\": 20, \"Quantity\": 100}, \"104\": {\"Name\": \"Diary Milk\", \"price\": 80, \"Quantity\": 400}, \"105\": {\"Name\": \"Snickers  \", \"price\": 60, \"Quantity\": 250}}\n"
     ]
    }
   ],
   "source": [
    "js = json.dumps(record)\n",
    "print(js)"
   ]
  },
  {
   "cell_type": "code",
   "execution_count": 28,
   "id": "9fd053a9",
   "metadata": {},
   "outputs": [],
   "source": [
    "file=open(\"Record.json\",'w')\n",
    "file.write(js)\n",
    "file.close()"
   ]
  },
  {
   "cell_type": "code",
   "execution_count": null,
   "id": "8bf738f1",
   "metadata": {},
   "outputs": [],
   "source": []
  }
 ],
 "metadata": {
  "kernelspec": {
   "display_name": "Python 3 (ipykernel)",
   "language": "python",
   "name": "python3"
  },
  "language_info": {
   "codemirror_mode": {
    "name": "ipython",
    "version": 3
   },
   "file_extension": ".py",
   "mimetype": "text/x-python",
   "name": "python",
   "nbconvert_exporter": "python",
   "pygments_lexer": "ipython3",
   "version": "3.9.12"
  }
 },
 "nbformat": 4,
 "nbformat_minor": 5
}
